{
  "nbformat": 4,
  "nbformat_minor": 0,
  "metadata": {
    "colab": {
      "provenance": [],
      "authorship_tag": "ABX9TyMOANcCaAANL+yDxEEE9qXH",
      "include_colab_link": true
    },
    "kernelspec": {
      "name": "python3",
      "display_name": "Python 3"
    },
    "language_info": {
      "name": "python"
    }
  },
  "cells": [
    {
      "cell_type": "markdown",
      "metadata": {
        "id": "view-in-github",
        "colab_type": "text"
      },
      "source": [
        "<a href=\"https://colab.research.google.com/github/andresmachado13/Data_Science_II_Entrega_1/blob/main/1era_Entrega_DS_AndresMachado.ipynb\" target=\"_parent\"><img src=\"https://colab.research.google.com/assets/colab-badge.svg\" alt=\"Open In Colab\"/></a>"
      ]
    },
    {
      "cell_type": "markdown",
      "source": [
        "##**Abstracto: Motivación y Audiencia**"
      ],
      "metadata": {
        "id": "gK-Zc3VPNsyH"
      }
    },
    {
      "cell_type": "markdown",
      "source": [
        "En este análisis exploramos la evolución de tres indicadores macroeconómicos clave en Argentina: La Inflación Anual, El Producto Interno Bruto (PIB) Per Cápita (ajustado por inflación), y El Tipo de Cambio Oficial (ARS/USD). Estos indicadores permiten entender la dinámica económica del país en los últimos 20 años y ofrecen una base para evaluar la estabilidad macroeconómica.\n"
      ],
      "metadata": {
        "id": "77EVxalCOTKl"
      }
    },
    {
      "cell_type": "markdown",
      "source": [
        "##**Audiencia Objetivo**"
      ],
      "metadata": {
        "id": "Exrcwhq6PosW"
      }
    },
    {
      "cell_type": "markdown",
      "source": [
        "Este análisis está dirigido a Estudiantes, Analistas Económicos Jr, Formuladores de Políticas Públicas, y público interesado en economía argentina.\n"
      ],
      "metadata": {
        "id": "EI_Vw8mbPosX"
      }
    },
    {
      "cell_type": "markdown",
      "source": [
        "##**Análisis Metadata**"
      ],
      "metadata": {
        "id": "zEL_TAGGv7fK"
      }
    },
    {
      "cell_type": "markdown",
      "source": [
        "**Fuente de los datos:**\n",
        "Banco Mundial (World Bank Open Data) + estimaciones manuales de inflación basadas según INDEC.\n",
        "\n",
        "**Cobertura temporal:**\n",
        "Años 2000 a 2023 (24 años).\n",
        "\n",
        "**Cobertura geográfica:**\n",
        "Argentina (código ISO: ARG).\n",
        "\n",
        "**Cantidad de registros:**\n",
        "24 filas (una por año).\n",
        "\n",
        "**Formato del dataset:**\n",
        "Tabular, con 4 columnas:\n",
        "\n",
        "| Columna                     | Tipo de dato | Descripción                                                                                                     |\n",
        "| --------------------------- | ------------ | --------------------------------------------------------------------------------------------------------------- |\n",
        "| `Año`                       | Entero       | Año calendario entre 2000 y 2023.                                                                               |\n",
        "| `Inflación (%)`             | Float        | Variación porcentual anual del índice de precios al consumidor (IPC). En algunos casos, completado manualmente. |\n",
        "| `PIB per cápita (USD 2015)` | Float        | Producto Interno Bruto per cápita, ajustado por inflación, expresado en dólares constantes de 2015.             |\n",
        "| `Tipo de cambio (LCU/USD)`  | Float        | Tipo de cambio oficial: unidades de moneda local (ARS) por 1 USD.                                               |\n"
      ],
      "metadata": {
        "id": "_7mWuFcGwoiE"
      }
    },
    {
      "cell_type": "markdown",
      "source": [
        "##**Preguntas / Hipótesis**"
      ],
      "metadata": {
        "id": "O8jeBgIIQTm_"
      }
    },
    {
      "cell_type": "markdown",
      "source": [
        "Con este análisis buscamos responder las siguientes interrogantes:\n",
        "\n",
        "1. ¿Cómo ha evolucionado la inflación en Argentina desde el año 2000?\n",
        "2. ¿Existe una relación visible entre la inflación y el tipo de cambio oficial?\n",
        "3. ¿Cómo ha impactado la inflación en el crecimiento real del PIB per cápita?\n",
        "4. ¿Podemos identificar períodos de mayor estabilidad o crisis en base a estos indicadores?\n",
        "\n",
        "\n",
        "\n",
        "\n",
        "\n",
        "\n",
        "\n",
        "\n",
        "\n",
        "\n"
      ],
      "metadata": {
        "id": "GyUMW0q0QTnG"
      }
    },
    {
      "cell_type": "markdown",
      "source": [
        "##**Análisis Exploratorio de Datos (EDA)**"
      ],
      "metadata": {
        "id": "7YcP4zxHSBcy"
      }
    },
    {
      "cell_type": "code",
      "source": [
        "# Importar Librerías\n",
        "import wbgapi as wb\n",
        "import pandas as pd\n",
        "import matplotlib.pyplot as plt"
      ],
      "metadata": {
        "id": "HsBDfVyESysk"
      },
      "execution_count": 5,
      "outputs": []
    },
    {
      "cell_type": "code",
      "source": [
        "# Estilo de gráficos\n",
        "plt.style.use(\"seaborn-v0_8-muted\")\n",
        "plt.rcParams[\"figure.figsize\"] = (12, 6)"
      ],
      "metadata": {
        "id": "CXvA8S4oS-au"
      },
      "execution_count": 6,
      "outputs": []
    },
    {
      "cell_type": "code",
      "source": [
        "# Definir país y período\n",
        "country = \"ARG\"  # Argentina\n",
        "years = list(range(2000, 2024))"
      ],
      "metadata": {
        "id": "x1B6U0e6TMXu"
      },
      "execution_count": 7,
      "outputs": []
    },
    {
      "cell_type": "code",
      "source": [
        "# Definir indicadores a consultar\n",
        "indicators = {\n",
        "    \"Inflación (%)\": \"FP.CPI.TOTL.ZG\",\n",
        "    \"PIB per cápita (USD 2015)\": \"NY.GDP.PCAP.KD\",\n",
        "    \"Tipo de cambio (LCU/USD)\": \"PA.NUS.FCRF\"\n",
        "}"
      ],
      "metadata": {
        "id": "lg0_guqiT8PS"
      },
      "execution_count": 10,
      "outputs": []
    },
    {
      "cell_type": "code",
      "source": [
        "# Descargar los datos crudos\n",
        "raw_df = wb.data.DataFrame(\n",
        "    indicators.values(),\n",
        "    economy=country,\n",
        "    time=years,\n",
        "    labels=True\n",
        ").reset_index()"
      ],
      "metadata": {
        "id": "PDYN0HaPVL_v"
      },
      "execution_count": 13,
      "outputs": []
    },
    {
      "cell_type": "code",
      "source": [
        "# Ver columnas disponibles\n",
        "print(raw_df.columns)"
      ],
      "metadata": {
        "colab": {
          "base_uri": "https://localhost:8080/"
        },
        "id": "egRB5nqRVNSA",
        "outputId": "23ecf944-a26c-4cb1-a809-6405a7339fb8"
      },
      "execution_count": 15,
      "outputs": [
        {
          "output_type": "stream",
          "name": "stdout",
          "text": [
            "Index(['series', 'Series', 'YR2000', 'YR2001', 'YR2002', 'YR2003', 'YR2004',\n",
            "       'YR2005', 'YR2006', 'YR2007', 'YR2008', 'YR2009', 'YR2010', 'YR2011',\n",
            "       'YR2012', 'YR2013', 'YR2014', 'YR2015', 'YR2016', 'YR2017', 'YR2018',\n",
            "       'YR2019', 'YR2020', 'YR2021', 'YR2022', 'YR2023'],\n",
            "      dtype='object')\n"
          ]
        }
      ]
    },
    {
      "cell_type": "code",
      "source": [
        "print(raw_df.columns.to_list())\n"
      ],
      "metadata": {
        "colab": {
          "base_uri": "https://localhost:8080/"
        },
        "id": "xhWIkk54XKKT",
        "outputId": "74ba375a-7c85-4128-c819-86244c288697"
      },
      "execution_count": 17,
      "outputs": [
        {
          "output_type": "stream",
          "name": "stdout",
          "text": [
            "['series', 'Series', 'YR2000', 'YR2001', 'YR2002', 'YR2003', 'YR2004', 'YR2005', 'YR2006', 'YR2007', 'YR2008', 'YR2009', 'YR2010', 'YR2011', 'YR2012', 'YR2013', 'YR2014', 'YR2015', 'YR2016', 'YR2017', 'YR2018', 'YR2019', 'YR2020', 'YR2021', 'YR2022', 'YR2023']\n"
          ]
        }
      ]
    },
    {
      "cell_type": "code",
      "source": [
        "raw_df.head()\n"
      ],
      "metadata": {
        "colab": {
          "base_uri": "https://localhost:8080/",
          "height": 418
        },
        "id": "oMw0Q2NRXzhh",
        "outputId": "c2706580-03c3-47ad-8915-29fb5b88f1db"
      },
      "execution_count": 18,
      "outputs": [
        {
          "output_type": "execute_result",
          "data": {
            "text/plain": [
              "           series                                             Series  \\\n",
              "0  FP.CPI.TOTL.ZG              Inflation, consumer prices (annual %)   \n",
              "1  NY.GDP.PCAP.KD                 GDP per capita (constant 2015 US$)   \n",
              "2     PA.NUS.FCRF  Official exchange rate (LCU per US$, period av...   \n",
              "\n",
              "         YR2000        YR2001       YR2002       YR2003        YR2004  \\\n",
              "0           NaN           NaN          NaN          NaN           NaN   \n",
              "1  10631.650364  10051.944846  8861.561993  9545.531941  10302.446532   \n",
              "2      0.999500      0.999500     3.063257     2.900629      2.923301   \n",
              "\n",
              "         YR2005        YR2006        YR2007  ...        YR2014        YR2015  \\\n",
              "0           NaN           NaN           NaN  ...           NaN           NaN   \n",
              "1  11099.750919  11870.279156  12811.902121  ...  13456.131916  13679.626498   \n",
              "2      2.903658      3.054313      3.095649  ...      8.075276      9.233186   \n",
              "\n",
              "         YR2016        YR2017        YR2018        YR2019        YR2020  \\\n",
              "0           NaN           NaN           NaN           NaN           NaN   \n",
              "1  13265.886064  13520.112985  13058.328545  12706.397811  11393.050596   \n",
              "2     14.758175     16.562707     28.094992     48.147892     70.539167   \n",
              "\n",
              "         YR2021        YR2022        YR2023  \n",
              "0           NaN           NaN           NaN  \n",
              "1  12549.281170  13182.793395  12933.249734  \n",
              "2     94.990742    130.616550    296.258042  \n",
              "\n",
              "[3 rows x 26 columns]"
            ],
            "text/html": [
              "\n",
              "  <div id=\"df-b0ed6c78-0ca9-40f8-b8d6-24f02d44ef60\" class=\"colab-df-container\">\n",
              "    <div>\n",
              "<style scoped>\n",
              "    .dataframe tbody tr th:only-of-type {\n",
              "        vertical-align: middle;\n",
              "    }\n",
              "\n",
              "    .dataframe tbody tr th {\n",
              "        vertical-align: top;\n",
              "    }\n",
              "\n",
              "    .dataframe thead th {\n",
              "        text-align: right;\n",
              "    }\n",
              "</style>\n",
              "<table border=\"1\" class=\"dataframe\">\n",
              "  <thead>\n",
              "    <tr style=\"text-align: right;\">\n",
              "      <th></th>\n",
              "      <th>series</th>\n",
              "      <th>Series</th>\n",
              "      <th>YR2000</th>\n",
              "      <th>YR2001</th>\n",
              "      <th>YR2002</th>\n",
              "      <th>YR2003</th>\n",
              "      <th>YR2004</th>\n",
              "      <th>YR2005</th>\n",
              "      <th>YR2006</th>\n",
              "      <th>YR2007</th>\n",
              "      <th>...</th>\n",
              "      <th>YR2014</th>\n",
              "      <th>YR2015</th>\n",
              "      <th>YR2016</th>\n",
              "      <th>YR2017</th>\n",
              "      <th>YR2018</th>\n",
              "      <th>YR2019</th>\n",
              "      <th>YR2020</th>\n",
              "      <th>YR2021</th>\n",
              "      <th>YR2022</th>\n",
              "      <th>YR2023</th>\n",
              "    </tr>\n",
              "  </thead>\n",
              "  <tbody>\n",
              "    <tr>\n",
              "      <th>0</th>\n",
              "      <td>FP.CPI.TOTL.ZG</td>\n",
              "      <td>Inflation, consumer prices (annual %)</td>\n",
              "      <td>NaN</td>\n",
              "      <td>NaN</td>\n",
              "      <td>NaN</td>\n",
              "      <td>NaN</td>\n",
              "      <td>NaN</td>\n",
              "      <td>NaN</td>\n",
              "      <td>NaN</td>\n",
              "      <td>NaN</td>\n",
              "      <td>...</td>\n",
              "      <td>NaN</td>\n",
              "      <td>NaN</td>\n",
              "      <td>NaN</td>\n",
              "      <td>NaN</td>\n",
              "      <td>NaN</td>\n",
              "      <td>NaN</td>\n",
              "      <td>NaN</td>\n",
              "      <td>NaN</td>\n",
              "      <td>NaN</td>\n",
              "      <td>NaN</td>\n",
              "    </tr>\n",
              "    <tr>\n",
              "      <th>1</th>\n",
              "      <td>NY.GDP.PCAP.KD</td>\n",
              "      <td>GDP per capita (constant 2015 US$)</td>\n",
              "      <td>10631.650364</td>\n",
              "      <td>10051.944846</td>\n",
              "      <td>8861.561993</td>\n",
              "      <td>9545.531941</td>\n",
              "      <td>10302.446532</td>\n",
              "      <td>11099.750919</td>\n",
              "      <td>11870.279156</td>\n",
              "      <td>12811.902121</td>\n",
              "      <td>...</td>\n",
              "      <td>13456.131916</td>\n",
              "      <td>13679.626498</td>\n",
              "      <td>13265.886064</td>\n",
              "      <td>13520.112985</td>\n",
              "      <td>13058.328545</td>\n",
              "      <td>12706.397811</td>\n",
              "      <td>11393.050596</td>\n",
              "      <td>12549.281170</td>\n",
              "      <td>13182.793395</td>\n",
              "      <td>12933.249734</td>\n",
              "    </tr>\n",
              "    <tr>\n",
              "      <th>2</th>\n",
              "      <td>PA.NUS.FCRF</td>\n",
              "      <td>Official exchange rate (LCU per US$, period av...</td>\n",
              "      <td>0.999500</td>\n",
              "      <td>0.999500</td>\n",
              "      <td>3.063257</td>\n",
              "      <td>2.900629</td>\n",
              "      <td>2.923301</td>\n",
              "      <td>2.903658</td>\n",
              "      <td>3.054313</td>\n",
              "      <td>3.095649</td>\n",
              "      <td>...</td>\n",
              "      <td>8.075276</td>\n",
              "      <td>9.233186</td>\n",
              "      <td>14.758175</td>\n",
              "      <td>16.562707</td>\n",
              "      <td>28.094992</td>\n",
              "      <td>48.147892</td>\n",
              "      <td>70.539167</td>\n",
              "      <td>94.990742</td>\n",
              "      <td>130.616550</td>\n",
              "      <td>296.258042</td>\n",
              "    </tr>\n",
              "  </tbody>\n",
              "</table>\n",
              "<p>3 rows × 26 columns</p>\n",
              "</div>\n",
              "    <div class=\"colab-df-buttons\">\n",
              "\n",
              "  <div class=\"colab-df-container\">\n",
              "    <button class=\"colab-df-convert\" onclick=\"convertToInteractive('df-b0ed6c78-0ca9-40f8-b8d6-24f02d44ef60')\"\n",
              "            title=\"Convert this dataframe to an interactive table.\"\n",
              "            style=\"display:none;\">\n",
              "\n",
              "  <svg xmlns=\"http://www.w3.org/2000/svg\" height=\"24px\" viewBox=\"0 -960 960 960\">\n",
              "    <path d=\"M120-120v-720h720v720H120Zm60-500h600v-160H180v160Zm220 220h160v-160H400v160Zm0 220h160v-160H400v160ZM180-400h160v-160H180v160Zm440 0h160v-160H620v160ZM180-180h160v-160H180v160Zm440 0h160v-160H620v160Z\"/>\n",
              "  </svg>\n",
              "    </button>\n",
              "\n",
              "  <style>\n",
              "    .colab-df-container {\n",
              "      display:flex;\n",
              "      gap: 12px;\n",
              "    }\n",
              "\n",
              "    .colab-df-convert {\n",
              "      background-color: #E8F0FE;\n",
              "      border: none;\n",
              "      border-radius: 50%;\n",
              "      cursor: pointer;\n",
              "      display: none;\n",
              "      fill: #1967D2;\n",
              "      height: 32px;\n",
              "      padding: 0 0 0 0;\n",
              "      width: 32px;\n",
              "    }\n",
              "\n",
              "    .colab-df-convert:hover {\n",
              "      background-color: #E2EBFA;\n",
              "      box-shadow: 0px 1px 2px rgba(60, 64, 67, 0.3), 0px 1px 3px 1px rgba(60, 64, 67, 0.15);\n",
              "      fill: #174EA6;\n",
              "    }\n",
              "\n",
              "    .colab-df-buttons div {\n",
              "      margin-bottom: 4px;\n",
              "    }\n",
              "\n",
              "    [theme=dark] .colab-df-convert {\n",
              "      background-color: #3B4455;\n",
              "      fill: #D2E3FC;\n",
              "    }\n",
              "\n",
              "    [theme=dark] .colab-df-convert:hover {\n",
              "      background-color: #434B5C;\n",
              "      box-shadow: 0px 1px 3px 1px rgba(0, 0, 0, 0.15);\n",
              "      filter: drop-shadow(0px 1px 2px rgba(0, 0, 0, 0.3));\n",
              "      fill: #FFFFFF;\n",
              "    }\n",
              "  </style>\n",
              "\n",
              "    <script>\n",
              "      const buttonEl =\n",
              "        document.querySelector('#df-b0ed6c78-0ca9-40f8-b8d6-24f02d44ef60 button.colab-df-convert');\n",
              "      buttonEl.style.display =\n",
              "        google.colab.kernel.accessAllowed ? 'block' : 'none';\n",
              "\n",
              "      async function convertToInteractive(key) {\n",
              "        const element = document.querySelector('#df-b0ed6c78-0ca9-40f8-b8d6-24f02d44ef60');\n",
              "        const dataTable =\n",
              "          await google.colab.kernel.invokeFunction('convertToInteractive',\n",
              "                                                    [key], {});\n",
              "        if (!dataTable) return;\n",
              "\n",
              "        const docLinkHtml = 'Like what you see? Visit the ' +\n",
              "          '<a target=\"_blank\" href=https://colab.research.google.com/notebooks/data_table.ipynb>data table notebook</a>'\n",
              "          + ' to learn more about interactive tables.';\n",
              "        element.innerHTML = '';\n",
              "        dataTable['output_type'] = 'display_data';\n",
              "        await google.colab.output.renderOutput(dataTable, element);\n",
              "        const docLink = document.createElement('div');\n",
              "        docLink.innerHTML = docLinkHtml;\n",
              "        element.appendChild(docLink);\n",
              "      }\n",
              "    </script>\n",
              "  </div>\n",
              "\n",
              "\n",
              "    <div id=\"df-913aa4fd-d4ae-4221-8a84-99f10a782bfd\">\n",
              "      <button class=\"colab-df-quickchart\" onclick=\"quickchart('df-913aa4fd-d4ae-4221-8a84-99f10a782bfd')\"\n",
              "                title=\"Suggest charts\"\n",
              "                style=\"display:none;\">\n",
              "\n",
              "<svg xmlns=\"http://www.w3.org/2000/svg\" height=\"24px\"viewBox=\"0 0 24 24\"\n",
              "     width=\"24px\">\n",
              "    <g>\n",
              "        <path d=\"M19 3H5c-1.1 0-2 .9-2 2v14c0 1.1.9 2 2 2h14c1.1 0 2-.9 2-2V5c0-1.1-.9-2-2-2zM9 17H7v-7h2v7zm4 0h-2V7h2v10zm4 0h-2v-4h2v4z\"/>\n",
              "    </g>\n",
              "</svg>\n",
              "      </button>\n",
              "\n",
              "<style>\n",
              "  .colab-df-quickchart {\n",
              "      --bg-color: #E8F0FE;\n",
              "      --fill-color: #1967D2;\n",
              "      --hover-bg-color: #E2EBFA;\n",
              "      --hover-fill-color: #174EA6;\n",
              "      --disabled-fill-color: #AAA;\n",
              "      --disabled-bg-color: #DDD;\n",
              "  }\n",
              "\n",
              "  [theme=dark] .colab-df-quickchart {\n",
              "      --bg-color: #3B4455;\n",
              "      --fill-color: #D2E3FC;\n",
              "      --hover-bg-color: #434B5C;\n",
              "      --hover-fill-color: #FFFFFF;\n",
              "      --disabled-bg-color: #3B4455;\n",
              "      --disabled-fill-color: #666;\n",
              "  }\n",
              "\n",
              "  .colab-df-quickchart {\n",
              "    background-color: var(--bg-color);\n",
              "    border: none;\n",
              "    border-radius: 50%;\n",
              "    cursor: pointer;\n",
              "    display: none;\n",
              "    fill: var(--fill-color);\n",
              "    height: 32px;\n",
              "    padding: 0;\n",
              "    width: 32px;\n",
              "  }\n",
              "\n",
              "  .colab-df-quickchart:hover {\n",
              "    background-color: var(--hover-bg-color);\n",
              "    box-shadow: 0 1px 2px rgba(60, 64, 67, 0.3), 0 1px 3px 1px rgba(60, 64, 67, 0.15);\n",
              "    fill: var(--button-hover-fill-color);\n",
              "  }\n",
              "\n",
              "  .colab-df-quickchart-complete:disabled,\n",
              "  .colab-df-quickchart-complete:disabled:hover {\n",
              "    background-color: var(--disabled-bg-color);\n",
              "    fill: var(--disabled-fill-color);\n",
              "    box-shadow: none;\n",
              "  }\n",
              "\n",
              "  .colab-df-spinner {\n",
              "    border: 2px solid var(--fill-color);\n",
              "    border-color: transparent;\n",
              "    border-bottom-color: var(--fill-color);\n",
              "    animation:\n",
              "      spin 1s steps(1) infinite;\n",
              "  }\n",
              "\n",
              "  @keyframes spin {\n",
              "    0% {\n",
              "      border-color: transparent;\n",
              "      border-bottom-color: var(--fill-color);\n",
              "      border-left-color: var(--fill-color);\n",
              "    }\n",
              "    20% {\n",
              "      border-color: transparent;\n",
              "      border-left-color: var(--fill-color);\n",
              "      border-top-color: var(--fill-color);\n",
              "    }\n",
              "    30% {\n",
              "      border-color: transparent;\n",
              "      border-left-color: var(--fill-color);\n",
              "      border-top-color: var(--fill-color);\n",
              "      border-right-color: var(--fill-color);\n",
              "    }\n",
              "    40% {\n",
              "      border-color: transparent;\n",
              "      border-right-color: var(--fill-color);\n",
              "      border-top-color: var(--fill-color);\n",
              "    }\n",
              "    60% {\n",
              "      border-color: transparent;\n",
              "      border-right-color: var(--fill-color);\n",
              "    }\n",
              "    80% {\n",
              "      border-color: transparent;\n",
              "      border-right-color: var(--fill-color);\n",
              "      border-bottom-color: var(--fill-color);\n",
              "    }\n",
              "    90% {\n",
              "      border-color: transparent;\n",
              "      border-bottom-color: var(--fill-color);\n",
              "    }\n",
              "  }\n",
              "</style>\n",
              "\n",
              "      <script>\n",
              "        async function quickchart(key) {\n",
              "          const quickchartButtonEl =\n",
              "            document.querySelector('#' + key + ' button');\n",
              "          quickchartButtonEl.disabled = true;  // To prevent multiple clicks.\n",
              "          quickchartButtonEl.classList.add('colab-df-spinner');\n",
              "          try {\n",
              "            const charts = await google.colab.kernel.invokeFunction(\n",
              "                'suggestCharts', [key], {});\n",
              "          } catch (error) {\n",
              "            console.error('Error during call to suggestCharts:', error);\n",
              "          }\n",
              "          quickchartButtonEl.classList.remove('colab-df-spinner');\n",
              "          quickchartButtonEl.classList.add('colab-df-quickchart-complete');\n",
              "        }\n",
              "        (() => {\n",
              "          let quickchartButtonEl =\n",
              "            document.querySelector('#df-913aa4fd-d4ae-4221-8a84-99f10a782bfd button');\n",
              "          quickchartButtonEl.style.display =\n",
              "            google.colab.kernel.accessAllowed ? 'block' : 'none';\n",
              "        })();\n",
              "      </script>\n",
              "    </div>\n",
              "\n",
              "    </div>\n",
              "  </div>\n"
            ],
            "application/vnd.google.colaboratory.intrinsic+json": {
              "type": "dataframe",
              "variable_name": "raw_df"
            }
          },
          "metadata": {},
          "execution_count": 18
        }
      ]
    },
    {
      "cell_type": "markdown",
      "source": [
        "###Transponer y preparar el *DataFrame*"
      ],
      "metadata": {
        "id": "3bHRe8fJYT_R"
      }
    },
    {
      "cell_type": "code",
      "source": [
        "# Transponer y limpiar\n",
        "df_t = raw_df.set_index('series').drop(columns='Series').T\n"
      ],
      "metadata": {
        "id": "Pj0tQgDUYPPI"
      },
      "execution_count": 20,
      "outputs": []
    },
    {
      "cell_type": "code",
      "source": [
        "# Convertir el índice (años) en una columna\n",
        "df_t.index = df_t.index.str.extract(r'(\\d{4})')[0].astype(int)\n",
        "df_t.index.name = \"Año\""
      ],
      "metadata": {
        "id": "t5p9ToK8YR9H"
      },
      "execution_count": 22,
      "outputs": []
    },
    {
      "cell_type": "code",
      "source": [
        "# Renombrar columnas\n",
        "df_t = df_t.rename(columns={\n",
        "    'FP.CPI.TOTL.ZG': 'Inflación (%)',\n",
        "    'NY.GDP.PCAP.KD': 'PIB per cápita (USD 2015)',\n",
        "    'PA.NUS.FCRF': 'Tipo de cambio (LCU/USD)'\n",
        "})"
      ],
      "metadata": {
        "id": "0BNbEmasZME1"
      },
      "execution_count": 23,
      "outputs": []
    },
    {
      "cell_type": "code",
      "source": [
        "# Resetear índice\n",
        "df = df_t.reset_index()\n"
      ],
      "metadata": {
        "id": "_GuscZGMZQI8"
      },
      "execution_count": 24,
      "outputs": []
    },
    {
      "cell_type": "code",
      "source": [
        "# Convertir columnas a numérico\n",
        "df[['Inflación (%)', 'PIB per cápita (USD 2015)', 'Tipo de cambio (LCU/USD)']] = df[[\n",
        "    'Inflación (%)', 'PIB per cápita (USD 2015)', 'Tipo de cambio (LCU/USD)'\n",
        "]].apply(pd.to_numeric)"
      ],
      "metadata": {
        "id": "9_DvphL-ZRE3"
      },
      "execution_count": 25,
      "outputs": []
    },
    {
      "cell_type": "code",
      "source": [
        "# Verificar resultado\n",
        "df.head()"
      ],
      "metadata": {
        "colab": {
          "base_uri": "https://localhost:8080/",
          "height": 206
        },
        "id": "-6Rz7xZ4ZT6S",
        "outputId": "46aba897-f026-4fc5-cf00-c6defb6a9486"
      },
      "execution_count": 26,
      "outputs": [
        {
          "output_type": "execute_result",
          "data": {
            "text/plain": [
              "series   Año  Inflación (%)  PIB per cápita (USD 2015)  \\\n",
              "0       2000            NaN               10631.650364   \n",
              "1       2001            NaN               10051.944846   \n",
              "2       2002            NaN                8861.561993   \n",
              "3       2003            NaN                9545.531941   \n",
              "4       2004            NaN               10302.446532   \n",
              "\n",
              "series  Tipo de cambio (LCU/USD)  \n",
              "0                       0.999500  \n",
              "1                       0.999500  \n",
              "2                       3.063257  \n",
              "3                       2.900629  \n",
              "4                       2.923301  "
            ],
            "text/html": [
              "\n",
              "  <div id=\"df-1bc2017c-81ec-47d7-94b0-1bbbbbd1d264\" class=\"colab-df-container\">\n",
              "    <div>\n",
              "<style scoped>\n",
              "    .dataframe tbody tr th:only-of-type {\n",
              "        vertical-align: middle;\n",
              "    }\n",
              "\n",
              "    .dataframe tbody tr th {\n",
              "        vertical-align: top;\n",
              "    }\n",
              "\n",
              "    .dataframe thead th {\n",
              "        text-align: right;\n",
              "    }\n",
              "</style>\n",
              "<table border=\"1\" class=\"dataframe\">\n",
              "  <thead>\n",
              "    <tr style=\"text-align: right;\">\n",
              "      <th>series</th>\n",
              "      <th>Año</th>\n",
              "      <th>Inflación (%)</th>\n",
              "      <th>PIB per cápita (USD 2015)</th>\n",
              "      <th>Tipo de cambio (LCU/USD)</th>\n",
              "    </tr>\n",
              "  </thead>\n",
              "  <tbody>\n",
              "    <tr>\n",
              "      <th>0</th>\n",
              "      <td>2000</td>\n",
              "      <td>NaN</td>\n",
              "      <td>10631.650364</td>\n",
              "      <td>0.999500</td>\n",
              "    </tr>\n",
              "    <tr>\n",
              "      <th>1</th>\n",
              "      <td>2001</td>\n",
              "      <td>NaN</td>\n",
              "      <td>10051.944846</td>\n",
              "      <td>0.999500</td>\n",
              "    </tr>\n",
              "    <tr>\n",
              "      <th>2</th>\n",
              "      <td>2002</td>\n",
              "      <td>NaN</td>\n",
              "      <td>8861.561993</td>\n",
              "      <td>3.063257</td>\n",
              "    </tr>\n",
              "    <tr>\n",
              "      <th>3</th>\n",
              "      <td>2003</td>\n",
              "      <td>NaN</td>\n",
              "      <td>9545.531941</td>\n",
              "      <td>2.900629</td>\n",
              "    </tr>\n",
              "    <tr>\n",
              "      <th>4</th>\n",
              "      <td>2004</td>\n",
              "      <td>NaN</td>\n",
              "      <td>10302.446532</td>\n",
              "      <td>2.923301</td>\n",
              "    </tr>\n",
              "  </tbody>\n",
              "</table>\n",
              "</div>\n",
              "    <div class=\"colab-df-buttons\">\n",
              "\n",
              "  <div class=\"colab-df-container\">\n",
              "    <button class=\"colab-df-convert\" onclick=\"convertToInteractive('df-1bc2017c-81ec-47d7-94b0-1bbbbbd1d264')\"\n",
              "            title=\"Convert this dataframe to an interactive table.\"\n",
              "            style=\"display:none;\">\n",
              "\n",
              "  <svg xmlns=\"http://www.w3.org/2000/svg\" height=\"24px\" viewBox=\"0 -960 960 960\">\n",
              "    <path d=\"M120-120v-720h720v720H120Zm60-500h600v-160H180v160Zm220 220h160v-160H400v160Zm0 220h160v-160H400v160ZM180-400h160v-160H180v160Zm440 0h160v-160H620v160ZM180-180h160v-160H180v160Zm440 0h160v-160H620v160Z\"/>\n",
              "  </svg>\n",
              "    </button>\n",
              "\n",
              "  <style>\n",
              "    .colab-df-container {\n",
              "      display:flex;\n",
              "      gap: 12px;\n",
              "    }\n",
              "\n",
              "    .colab-df-convert {\n",
              "      background-color: #E8F0FE;\n",
              "      border: none;\n",
              "      border-radius: 50%;\n",
              "      cursor: pointer;\n",
              "      display: none;\n",
              "      fill: #1967D2;\n",
              "      height: 32px;\n",
              "      padding: 0 0 0 0;\n",
              "      width: 32px;\n",
              "    }\n",
              "\n",
              "    .colab-df-convert:hover {\n",
              "      background-color: #E2EBFA;\n",
              "      box-shadow: 0px 1px 2px rgba(60, 64, 67, 0.3), 0px 1px 3px 1px rgba(60, 64, 67, 0.15);\n",
              "      fill: #174EA6;\n",
              "    }\n",
              "\n",
              "    .colab-df-buttons div {\n",
              "      margin-bottom: 4px;\n",
              "    }\n",
              "\n",
              "    [theme=dark] .colab-df-convert {\n",
              "      background-color: #3B4455;\n",
              "      fill: #D2E3FC;\n",
              "    }\n",
              "\n",
              "    [theme=dark] .colab-df-convert:hover {\n",
              "      background-color: #434B5C;\n",
              "      box-shadow: 0px 1px 3px 1px rgba(0, 0, 0, 0.15);\n",
              "      filter: drop-shadow(0px 1px 2px rgba(0, 0, 0, 0.3));\n",
              "      fill: #FFFFFF;\n",
              "    }\n",
              "  </style>\n",
              "\n",
              "    <script>\n",
              "      const buttonEl =\n",
              "        document.querySelector('#df-1bc2017c-81ec-47d7-94b0-1bbbbbd1d264 button.colab-df-convert');\n",
              "      buttonEl.style.display =\n",
              "        google.colab.kernel.accessAllowed ? 'block' : 'none';\n",
              "\n",
              "      async function convertToInteractive(key) {\n",
              "        const element = document.querySelector('#df-1bc2017c-81ec-47d7-94b0-1bbbbbd1d264');\n",
              "        const dataTable =\n",
              "          await google.colab.kernel.invokeFunction('convertToInteractive',\n",
              "                                                    [key], {});\n",
              "        if (!dataTable) return;\n",
              "\n",
              "        const docLinkHtml = 'Like what you see? Visit the ' +\n",
              "          '<a target=\"_blank\" href=https://colab.research.google.com/notebooks/data_table.ipynb>data table notebook</a>'\n",
              "          + ' to learn more about interactive tables.';\n",
              "        element.innerHTML = '';\n",
              "        dataTable['output_type'] = 'display_data';\n",
              "        await google.colab.output.renderOutput(dataTable, element);\n",
              "        const docLink = document.createElement('div');\n",
              "        docLink.innerHTML = docLinkHtml;\n",
              "        element.appendChild(docLink);\n",
              "      }\n",
              "    </script>\n",
              "  </div>\n",
              "\n",
              "\n",
              "    <div id=\"df-a00372e0-f40d-496d-9558-31b44da0e551\">\n",
              "      <button class=\"colab-df-quickchart\" onclick=\"quickchart('df-a00372e0-f40d-496d-9558-31b44da0e551')\"\n",
              "                title=\"Suggest charts\"\n",
              "                style=\"display:none;\">\n",
              "\n",
              "<svg xmlns=\"http://www.w3.org/2000/svg\" height=\"24px\"viewBox=\"0 0 24 24\"\n",
              "     width=\"24px\">\n",
              "    <g>\n",
              "        <path d=\"M19 3H5c-1.1 0-2 .9-2 2v14c0 1.1.9 2 2 2h14c1.1 0 2-.9 2-2V5c0-1.1-.9-2-2-2zM9 17H7v-7h2v7zm4 0h-2V7h2v10zm4 0h-2v-4h2v4z\"/>\n",
              "    </g>\n",
              "</svg>\n",
              "      </button>\n",
              "\n",
              "<style>\n",
              "  .colab-df-quickchart {\n",
              "      --bg-color: #E8F0FE;\n",
              "      --fill-color: #1967D2;\n",
              "      --hover-bg-color: #E2EBFA;\n",
              "      --hover-fill-color: #174EA6;\n",
              "      --disabled-fill-color: #AAA;\n",
              "      --disabled-bg-color: #DDD;\n",
              "  }\n",
              "\n",
              "  [theme=dark] .colab-df-quickchart {\n",
              "      --bg-color: #3B4455;\n",
              "      --fill-color: #D2E3FC;\n",
              "      --hover-bg-color: #434B5C;\n",
              "      --hover-fill-color: #FFFFFF;\n",
              "      --disabled-bg-color: #3B4455;\n",
              "      --disabled-fill-color: #666;\n",
              "  }\n",
              "\n",
              "  .colab-df-quickchart {\n",
              "    background-color: var(--bg-color);\n",
              "    border: none;\n",
              "    border-radius: 50%;\n",
              "    cursor: pointer;\n",
              "    display: none;\n",
              "    fill: var(--fill-color);\n",
              "    height: 32px;\n",
              "    padding: 0;\n",
              "    width: 32px;\n",
              "  }\n",
              "\n",
              "  .colab-df-quickchart:hover {\n",
              "    background-color: var(--hover-bg-color);\n",
              "    box-shadow: 0 1px 2px rgba(60, 64, 67, 0.3), 0 1px 3px 1px rgba(60, 64, 67, 0.15);\n",
              "    fill: var(--button-hover-fill-color);\n",
              "  }\n",
              "\n",
              "  .colab-df-quickchart-complete:disabled,\n",
              "  .colab-df-quickchart-complete:disabled:hover {\n",
              "    background-color: var(--disabled-bg-color);\n",
              "    fill: var(--disabled-fill-color);\n",
              "    box-shadow: none;\n",
              "  }\n",
              "\n",
              "  .colab-df-spinner {\n",
              "    border: 2px solid var(--fill-color);\n",
              "    border-color: transparent;\n",
              "    border-bottom-color: var(--fill-color);\n",
              "    animation:\n",
              "      spin 1s steps(1) infinite;\n",
              "  }\n",
              "\n",
              "  @keyframes spin {\n",
              "    0% {\n",
              "      border-color: transparent;\n",
              "      border-bottom-color: var(--fill-color);\n",
              "      border-left-color: var(--fill-color);\n",
              "    }\n",
              "    20% {\n",
              "      border-color: transparent;\n",
              "      border-left-color: var(--fill-color);\n",
              "      border-top-color: var(--fill-color);\n",
              "    }\n",
              "    30% {\n",
              "      border-color: transparent;\n",
              "      border-left-color: var(--fill-color);\n",
              "      border-top-color: var(--fill-color);\n",
              "      border-right-color: var(--fill-color);\n",
              "    }\n",
              "    40% {\n",
              "      border-color: transparent;\n",
              "      border-right-color: var(--fill-color);\n",
              "      border-top-color: var(--fill-color);\n",
              "    }\n",
              "    60% {\n",
              "      border-color: transparent;\n",
              "      border-right-color: var(--fill-color);\n",
              "    }\n",
              "    80% {\n",
              "      border-color: transparent;\n",
              "      border-right-color: var(--fill-color);\n",
              "      border-bottom-color: var(--fill-color);\n",
              "    }\n",
              "    90% {\n",
              "      border-color: transparent;\n",
              "      border-bottom-color: var(--fill-color);\n",
              "    }\n",
              "  }\n",
              "</style>\n",
              "\n",
              "      <script>\n",
              "        async function quickchart(key) {\n",
              "          const quickchartButtonEl =\n",
              "            document.querySelector('#' + key + ' button');\n",
              "          quickchartButtonEl.disabled = true;  // To prevent multiple clicks.\n",
              "          quickchartButtonEl.classList.add('colab-df-spinner');\n",
              "          try {\n",
              "            const charts = await google.colab.kernel.invokeFunction(\n",
              "                'suggestCharts', [key], {});\n",
              "          } catch (error) {\n",
              "            console.error('Error during call to suggestCharts:', error);\n",
              "          }\n",
              "          quickchartButtonEl.classList.remove('colab-df-spinner');\n",
              "          quickchartButtonEl.classList.add('colab-df-quickchart-complete');\n",
              "        }\n",
              "        (() => {\n",
              "          let quickchartButtonEl =\n",
              "            document.querySelector('#df-a00372e0-f40d-496d-9558-31b44da0e551 button');\n",
              "          quickchartButtonEl.style.display =\n",
              "            google.colab.kernel.accessAllowed ? 'block' : 'none';\n",
              "        })();\n",
              "      </script>\n",
              "    </div>\n",
              "\n",
              "    </div>\n",
              "  </div>\n"
            ],
            "application/vnd.google.colaboratory.intrinsic+json": {
              "type": "dataframe",
              "variable_name": "df",
              "summary": "{\n  \"name\": \"df\",\n  \"rows\": 24,\n  \"fields\": [\n    {\n      \"column\": \"A\\u00f1o\",\n      \"properties\": {\n        \"dtype\": \"number\",\n        \"std\": 7,\n        \"min\": 2000,\n        \"max\": 2023,\n        \"num_unique_values\": 24,\n        \"samples\": [\n          2008,\n          2016,\n          2000\n        ],\n        \"semantic_type\": \"\",\n        \"description\": \"\"\n      }\n    },\n    {\n      \"column\": \"Inflaci\\u00f3n (%)\",\n      \"properties\": {\n        \"dtype\": \"number\",\n        \"std\": null,\n        \"min\": null,\n        \"max\": null,\n        \"num_unique_values\": 0,\n        \"samples\": [],\n        \"semantic_type\": \"\",\n        \"description\": \"\"\n      }\n    },\n    {\n      \"column\": \"PIB per c\\u00e1pita (USD 2015)\",\n      \"properties\": {\n        \"dtype\": \"number\",\n        \"std\": 1495.3409974331312,\n        \"min\": 8861.56199282278,\n        \"max\": 14040.6189124444,\n        \"num_unique_values\": 24,\n        \"samples\": [],\n        \"semantic_type\": \"\",\n        \"description\": \"\"\n      }\n    },\n    {\n      \"column\": \"Tipo de cambio (LCU/USD)\",\n      \"properties\": {\n        \"dtype\": \"number\",\n        \"std\": 65.45569042335971,\n        \"min\": 0.9995,\n        \"max\": 296.258041666667,\n        \"num_unique_values\": 23,\n        \"samples\": [],\n        \"semantic_type\": \"\",\n        \"description\": \"\"\n      }\n    }\n  ]\n}"
            }
          },
          "metadata": {},
          "execution_count": 26
        }
      ]
    },
    {
      "cell_type": "markdown",
      "source": [
        "###Datos Faltantes"
      ],
      "metadata": {
        "id": "wOOFOr21s7Rv"
      }
    },
    {
      "cell_type": "code",
      "source": [
        "print(raw_df[['series', 'Series']])\n"
      ],
      "metadata": {
        "colab": {
          "base_uri": "https://localhost:8080/"
        },
        "id": "3vL8de6PbLKU",
        "outputId": "3fa67e0b-6f84-4fa3-f2e2-468e6cb4841a"
      },
      "execution_count": 31,
      "outputs": [
        {
          "output_type": "stream",
          "name": "stdout",
          "text": [
            "           series                                             Series\n",
            "0  FP.CPI.TOTL.ZG              Inflation, consumer prices (annual %)\n",
            "1  NY.GDP.PCAP.KD                 GDP per capita (constant 2015 US$)\n",
            "2     PA.NUS.FCRF  Official exchange rate (LCU per US$, period av...\n"
          ]
        }
      ]
    },
    {
      "cell_type": "code",
      "source": [
        "inflacion = wb.data.DataFrame(\n",
        "    'FP.CPI.TOTL.ZG',\n",
        "    economy='ARG',\n",
        "    time=range(2000, 2024),\n",
        "    labels=True\n",
        ").reset_index()\n",
        "\n",
        "inflacion.head()\n"
      ],
      "metadata": {
        "colab": {
          "base_uri": "https://localhost:8080/",
          "height": 0
        },
        "id": "6aUvTnzmbaoC",
        "outputId": "58fa7884-ce50-4a56-89fe-5c6f54f4aeae"
      },
      "execution_count": 32,
      "outputs": [
        {
          "output_type": "execute_result",
          "data": {
            "text/plain": [
              "  economy    Country  YR2000  YR2001  YR2002  YR2003  YR2004  YR2005  YR2006  \\\n",
              "0     ARG  Argentina     NaN     NaN     NaN     NaN     NaN     NaN     NaN   \n",
              "\n",
              "   YR2007  ...  YR2014  YR2015  YR2016  YR2017  YR2018  YR2019  YR2020  \\\n",
              "0     NaN  ...     NaN     NaN     NaN     NaN     NaN     NaN     NaN   \n",
              "\n",
              "   YR2021  YR2022  YR2023  \n",
              "0     NaN     NaN     NaN  \n",
              "\n",
              "[1 rows x 26 columns]"
            ],
            "text/html": [
              "\n",
              "  <div id=\"df-a20d4262-c583-497c-8cc3-b45a97e11684\" class=\"colab-df-container\">\n",
              "    <div>\n",
              "<style scoped>\n",
              "    .dataframe tbody tr th:only-of-type {\n",
              "        vertical-align: middle;\n",
              "    }\n",
              "\n",
              "    .dataframe tbody tr th {\n",
              "        vertical-align: top;\n",
              "    }\n",
              "\n",
              "    .dataframe thead th {\n",
              "        text-align: right;\n",
              "    }\n",
              "</style>\n",
              "<table border=\"1\" class=\"dataframe\">\n",
              "  <thead>\n",
              "    <tr style=\"text-align: right;\">\n",
              "      <th></th>\n",
              "      <th>economy</th>\n",
              "      <th>Country</th>\n",
              "      <th>YR2000</th>\n",
              "      <th>YR2001</th>\n",
              "      <th>YR2002</th>\n",
              "      <th>YR2003</th>\n",
              "      <th>YR2004</th>\n",
              "      <th>YR2005</th>\n",
              "      <th>YR2006</th>\n",
              "      <th>YR2007</th>\n",
              "      <th>...</th>\n",
              "      <th>YR2014</th>\n",
              "      <th>YR2015</th>\n",
              "      <th>YR2016</th>\n",
              "      <th>YR2017</th>\n",
              "      <th>YR2018</th>\n",
              "      <th>YR2019</th>\n",
              "      <th>YR2020</th>\n",
              "      <th>YR2021</th>\n",
              "      <th>YR2022</th>\n",
              "      <th>YR2023</th>\n",
              "    </tr>\n",
              "  </thead>\n",
              "  <tbody>\n",
              "    <tr>\n",
              "      <th>0</th>\n",
              "      <td>ARG</td>\n",
              "      <td>Argentina</td>\n",
              "      <td>NaN</td>\n",
              "      <td>NaN</td>\n",
              "      <td>NaN</td>\n",
              "      <td>NaN</td>\n",
              "      <td>NaN</td>\n",
              "      <td>NaN</td>\n",
              "      <td>NaN</td>\n",
              "      <td>NaN</td>\n",
              "      <td>...</td>\n",
              "      <td>NaN</td>\n",
              "      <td>NaN</td>\n",
              "      <td>NaN</td>\n",
              "      <td>NaN</td>\n",
              "      <td>NaN</td>\n",
              "      <td>NaN</td>\n",
              "      <td>NaN</td>\n",
              "      <td>NaN</td>\n",
              "      <td>NaN</td>\n",
              "      <td>NaN</td>\n",
              "    </tr>\n",
              "  </tbody>\n",
              "</table>\n",
              "<p>1 rows × 26 columns</p>\n",
              "</div>\n",
              "    <div class=\"colab-df-buttons\">\n",
              "\n",
              "  <div class=\"colab-df-container\">\n",
              "    <button class=\"colab-df-convert\" onclick=\"convertToInteractive('df-a20d4262-c583-497c-8cc3-b45a97e11684')\"\n",
              "            title=\"Convert this dataframe to an interactive table.\"\n",
              "            style=\"display:none;\">\n",
              "\n",
              "  <svg xmlns=\"http://www.w3.org/2000/svg\" height=\"24px\" viewBox=\"0 -960 960 960\">\n",
              "    <path d=\"M120-120v-720h720v720H120Zm60-500h600v-160H180v160Zm220 220h160v-160H400v160Zm0 220h160v-160H400v160ZM180-400h160v-160H180v160Zm440 0h160v-160H620v160ZM180-180h160v-160H180v160Zm440 0h160v-160H620v160Z\"/>\n",
              "  </svg>\n",
              "    </button>\n",
              "\n",
              "  <style>\n",
              "    .colab-df-container {\n",
              "      display:flex;\n",
              "      gap: 12px;\n",
              "    }\n",
              "\n",
              "    .colab-df-convert {\n",
              "      background-color: #E8F0FE;\n",
              "      border: none;\n",
              "      border-radius: 50%;\n",
              "      cursor: pointer;\n",
              "      display: none;\n",
              "      fill: #1967D2;\n",
              "      height: 32px;\n",
              "      padding: 0 0 0 0;\n",
              "      width: 32px;\n",
              "    }\n",
              "\n",
              "    .colab-df-convert:hover {\n",
              "      background-color: #E2EBFA;\n",
              "      box-shadow: 0px 1px 2px rgba(60, 64, 67, 0.3), 0px 1px 3px 1px rgba(60, 64, 67, 0.15);\n",
              "      fill: #174EA6;\n",
              "    }\n",
              "\n",
              "    .colab-df-buttons div {\n",
              "      margin-bottom: 4px;\n",
              "    }\n",
              "\n",
              "    [theme=dark] .colab-df-convert {\n",
              "      background-color: #3B4455;\n",
              "      fill: #D2E3FC;\n",
              "    }\n",
              "\n",
              "    [theme=dark] .colab-df-convert:hover {\n",
              "      background-color: #434B5C;\n",
              "      box-shadow: 0px 1px 3px 1px rgba(0, 0, 0, 0.15);\n",
              "      filter: drop-shadow(0px 1px 2px rgba(0, 0, 0, 0.3));\n",
              "      fill: #FFFFFF;\n",
              "    }\n",
              "  </style>\n",
              "\n",
              "    <script>\n",
              "      const buttonEl =\n",
              "        document.querySelector('#df-a20d4262-c583-497c-8cc3-b45a97e11684 button.colab-df-convert');\n",
              "      buttonEl.style.display =\n",
              "        google.colab.kernel.accessAllowed ? 'block' : 'none';\n",
              "\n",
              "      async function convertToInteractive(key) {\n",
              "        const element = document.querySelector('#df-a20d4262-c583-497c-8cc3-b45a97e11684');\n",
              "        const dataTable =\n",
              "          await google.colab.kernel.invokeFunction('convertToInteractive',\n",
              "                                                    [key], {});\n",
              "        if (!dataTable) return;\n",
              "\n",
              "        const docLinkHtml = 'Like what you see? Visit the ' +\n",
              "          '<a target=\"_blank\" href=https://colab.research.google.com/notebooks/data_table.ipynb>data table notebook</a>'\n",
              "          + ' to learn more about interactive tables.';\n",
              "        element.innerHTML = '';\n",
              "        dataTable['output_type'] = 'display_data';\n",
              "        await google.colab.output.renderOutput(dataTable, element);\n",
              "        const docLink = document.createElement('div');\n",
              "        docLink.innerHTML = docLinkHtml;\n",
              "        element.appendChild(docLink);\n",
              "      }\n",
              "    </script>\n",
              "  </div>\n",
              "\n",
              "\n",
              "    </div>\n",
              "  </div>\n"
            ],
            "application/vnd.google.colaboratory.intrinsic+json": {
              "type": "dataframe",
              "variable_name": "inflacion"
            }
          },
          "metadata": {},
          "execution_count": 32
        }
      ]
    },
    {
      "cell_type": "markdown",
      "source": [
        "###Cargar manualmente la inflación (2000–2023)"
      ],
      "metadata": {
        "id": "RLrIzrtSfX28"
      }
    },
    {
      "cell_type": "code",
      "source": [
        "# Datos reales INDEC\n",
        "inflacion_manual = {\n",
        "    2000: -0.7,\n",
        "    2001: -1.5,\n",
        "    2002: 41.0,\n",
        "    2003: 3.7,\n",
        "    2004: 6.1,\n",
        "    2005: 9.6,\n",
        "    2006: 10.9,\n",
        "    2007: 8.5,\n",
        "    2008: 20.9,\n",
        "    2009: 13.4,\n",
        "    2010: 22.6,\n",
        "    2011: 19.8,\n",
        "    2012: 16.4,\n",
        "    2013: 14.7,\n",
        "    2014: 31.6,\n",
        "    2015: 27.2,\n",
        "    2016: 40.9,\n",
        "    2017: 24.8,\n",
        "    2018: 47.6,\n",
        "    2019: 53.8,\n",
        "    2020: 42.0,\n",
        "    2021: 48.4,\n",
        "    2022: 72.4,\n",
        "    2023: 211.4\n",
        "}\n"
      ],
      "metadata": {
        "id": "XpBBLEoUfdmE"
      },
      "execution_count": 35,
      "outputs": []
    },
    {
      "cell_type": "code",
      "source": [
        "df[\"Inflación (%)\"] = df[\"Año\"].map(inflacion_manual)"
      ],
      "metadata": {
        "id": "A1tcgFyOg7hK"
      },
      "execution_count": 38,
      "outputs": []
    },
    {
      "cell_type": "code",
      "source": [
        "# Verificar resultado\n",
        "df.head()"
      ],
      "metadata": {
        "colab": {
          "base_uri": "https://localhost:8080/",
          "height": 0
        },
        "id": "TnI2mcRphP8b",
        "outputId": "40b78e33-ddb9-4296-97ba-1d7b92aca8c5"
      },
      "execution_count": 39,
      "outputs": [
        {
          "output_type": "execute_result",
          "data": {
            "text/plain": [
              "series   Año  Inflación (%)  PIB per cápita (USD 2015)  \\\n",
              "0       2000           -0.7               10631.650364   \n",
              "1       2001           -1.5               10051.944846   \n",
              "2       2002           41.0                8861.561993   \n",
              "3       2003            3.7                9545.531941   \n",
              "4       2004            6.1               10302.446532   \n",
              "\n",
              "series  Tipo de cambio (LCU/USD)  \n",
              "0                       0.999500  \n",
              "1                       0.999500  \n",
              "2                       3.063257  \n",
              "3                       2.900629  \n",
              "4                       2.923301  "
            ],
            "text/html": [
              "\n",
              "  <div id=\"df-24f4e72a-d622-4501-9aca-0e39e86eda61\" class=\"colab-df-container\">\n",
              "    <div>\n",
              "<style scoped>\n",
              "    .dataframe tbody tr th:only-of-type {\n",
              "        vertical-align: middle;\n",
              "    }\n",
              "\n",
              "    .dataframe tbody tr th {\n",
              "        vertical-align: top;\n",
              "    }\n",
              "\n",
              "    .dataframe thead th {\n",
              "        text-align: right;\n",
              "    }\n",
              "</style>\n",
              "<table border=\"1\" class=\"dataframe\">\n",
              "  <thead>\n",
              "    <tr style=\"text-align: right;\">\n",
              "      <th>series</th>\n",
              "      <th>Año</th>\n",
              "      <th>Inflación (%)</th>\n",
              "      <th>PIB per cápita (USD 2015)</th>\n",
              "      <th>Tipo de cambio (LCU/USD)</th>\n",
              "    </tr>\n",
              "  </thead>\n",
              "  <tbody>\n",
              "    <tr>\n",
              "      <th>0</th>\n",
              "      <td>2000</td>\n",
              "      <td>-0.7</td>\n",
              "      <td>10631.650364</td>\n",
              "      <td>0.999500</td>\n",
              "    </tr>\n",
              "    <tr>\n",
              "      <th>1</th>\n",
              "      <td>2001</td>\n",
              "      <td>-1.5</td>\n",
              "      <td>10051.944846</td>\n",
              "      <td>0.999500</td>\n",
              "    </tr>\n",
              "    <tr>\n",
              "      <th>2</th>\n",
              "      <td>2002</td>\n",
              "      <td>41.0</td>\n",
              "      <td>8861.561993</td>\n",
              "      <td>3.063257</td>\n",
              "    </tr>\n",
              "    <tr>\n",
              "      <th>3</th>\n",
              "      <td>2003</td>\n",
              "      <td>3.7</td>\n",
              "      <td>9545.531941</td>\n",
              "      <td>2.900629</td>\n",
              "    </tr>\n",
              "    <tr>\n",
              "      <th>4</th>\n",
              "      <td>2004</td>\n",
              "      <td>6.1</td>\n",
              "      <td>10302.446532</td>\n",
              "      <td>2.923301</td>\n",
              "    </tr>\n",
              "  </tbody>\n",
              "</table>\n",
              "</div>\n",
              "    <div class=\"colab-df-buttons\">\n",
              "\n",
              "  <div class=\"colab-df-container\">\n",
              "    <button class=\"colab-df-convert\" onclick=\"convertToInteractive('df-24f4e72a-d622-4501-9aca-0e39e86eda61')\"\n",
              "            title=\"Convert this dataframe to an interactive table.\"\n",
              "            style=\"display:none;\">\n",
              "\n",
              "  <svg xmlns=\"http://www.w3.org/2000/svg\" height=\"24px\" viewBox=\"0 -960 960 960\">\n",
              "    <path d=\"M120-120v-720h720v720H120Zm60-500h600v-160H180v160Zm220 220h160v-160H400v160Zm0 220h160v-160H400v160ZM180-400h160v-160H180v160Zm440 0h160v-160H620v160ZM180-180h160v-160H180v160Zm440 0h160v-160H620v160Z\"/>\n",
              "  </svg>\n",
              "    </button>\n",
              "\n",
              "  <style>\n",
              "    .colab-df-container {\n",
              "      display:flex;\n",
              "      gap: 12px;\n",
              "    }\n",
              "\n",
              "    .colab-df-convert {\n",
              "      background-color: #E8F0FE;\n",
              "      border: none;\n",
              "      border-radius: 50%;\n",
              "      cursor: pointer;\n",
              "      display: none;\n",
              "      fill: #1967D2;\n",
              "      height: 32px;\n",
              "      padding: 0 0 0 0;\n",
              "      width: 32px;\n",
              "    }\n",
              "\n",
              "    .colab-df-convert:hover {\n",
              "      background-color: #E2EBFA;\n",
              "      box-shadow: 0px 1px 2px rgba(60, 64, 67, 0.3), 0px 1px 3px 1px rgba(60, 64, 67, 0.15);\n",
              "      fill: #174EA6;\n",
              "    }\n",
              "\n",
              "    .colab-df-buttons div {\n",
              "      margin-bottom: 4px;\n",
              "    }\n",
              "\n",
              "    [theme=dark] .colab-df-convert {\n",
              "      background-color: #3B4455;\n",
              "      fill: #D2E3FC;\n",
              "    }\n",
              "\n",
              "    [theme=dark] .colab-df-convert:hover {\n",
              "      background-color: #434B5C;\n",
              "      box-shadow: 0px 1px 3px 1px rgba(0, 0, 0, 0.15);\n",
              "      filter: drop-shadow(0px 1px 2px rgba(0, 0, 0, 0.3));\n",
              "      fill: #FFFFFF;\n",
              "    }\n",
              "  </style>\n",
              "\n",
              "    <script>\n",
              "      const buttonEl =\n",
              "        document.querySelector('#df-24f4e72a-d622-4501-9aca-0e39e86eda61 button.colab-df-convert');\n",
              "      buttonEl.style.display =\n",
              "        google.colab.kernel.accessAllowed ? 'block' : 'none';\n",
              "\n",
              "      async function convertToInteractive(key) {\n",
              "        const element = document.querySelector('#df-24f4e72a-d622-4501-9aca-0e39e86eda61');\n",
              "        const dataTable =\n",
              "          await google.colab.kernel.invokeFunction('convertToInteractive',\n",
              "                                                    [key], {});\n",
              "        if (!dataTable) return;\n",
              "\n",
              "        const docLinkHtml = 'Like what you see? Visit the ' +\n",
              "          '<a target=\"_blank\" href=https://colab.research.google.com/notebooks/data_table.ipynb>data table notebook</a>'\n",
              "          + ' to learn more about interactive tables.';\n",
              "        element.innerHTML = '';\n",
              "        dataTable['output_type'] = 'display_data';\n",
              "        await google.colab.output.renderOutput(dataTable, element);\n",
              "        const docLink = document.createElement('div');\n",
              "        docLink.innerHTML = docLinkHtml;\n",
              "        element.appendChild(docLink);\n",
              "      }\n",
              "    </script>\n",
              "  </div>\n",
              "\n",
              "\n",
              "    <div id=\"df-33878cd1-e42e-496f-b215-425c9c357dfe\">\n",
              "      <button class=\"colab-df-quickchart\" onclick=\"quickchart('df-33878cd1-e42e-496f-b215-425c9c357dfe')\"\n",
              "                title=\"Suggest charts\"\n",
              "                style=\"display:none;\">\n",
              "\n",
              "<svg xmlns=\"http://www.w3.org/2000/svg\" height=\"24px\"viewBox=\"0 0 24 24\"\n",
              "     width=\"24px\">\n",
              "    <g>\n",
              "        <path d=\"M19 3H5c-1.1 0-2 .9-2 2v14c0 1.1.9 2 2 2h14c1.1 0 2-.9 2-2V5c0-1.1-.9-2-2-2zM9 17H7v-7h2v7zm4 0h-2V7h2v10zm4 0h-2v-4h2v4z\"/>\n",
              "    </g>\n",
              "</svg>\n",
              "      </button>\n",
              "\n",
              "<style>\n",
              "  .colab-df-quickchart {\n",
              "      --bg-color: #E8F0FE;\n",
              "      --fill-color: #1967D2;\n",
              "      --hover-bg-color: #E2EBFA;\n",
              "      --hover-fill-color: #174EA6;\n",
              "      --disabled-fill-color: #AAA;\n",
              "      --disabled-bg-color: #DDD;\n",
              "  }\n",
              "\n",
              "  [theme=dark] .colab-df-quickchart {\n",
              "      --bg-color: #3B4455;\n",
              "      --fill-color: #D2E3FC;\n",
              "      --hover-bg-color: #434B5C;\n",
              "      --hover-fill-color: #FFFFFF;\n",
              "      --disabled-bg-color: #3B4455;\n",
              "      --disabled-fill-color: #666;\n",
              "  }\n",
              "\n",
              "  .colab-df-quickchart {\n",
              "    background-color: var(--bg-color);\n",
              "    border: none;\n",
              "    border-radius: 50%;\n",
              "    cursor: pointer;\n",
              "    display: none;\n",
              "    fill: var(--fill-color);\n",
              "    height: 32px;\n",
              "    padding: 0;\n",
              "    width: 32px;\n",
              "  }\n",
              "\n",
              "  .colab-df-quickchart:hover {\n",
              "    background-color: var(--hover-bg-color);\n",
              "    box-shadow: 0 1px 2px rgba(60, 64, 67, 0.3), 0 1px 3px 1px rgba(60, 64, 67, 0.15);\n",
              "    fill: var(--button-hover-fill-color);\n",
              "  }\n",
              "\n",
              "  .colab-df-quickchart-complete:disabled,\n",
              "  .colab-df-quickchart-complete:disabled:hover {\n",
              "    background-color: var(--disabled-bg-color);\n",
              "    fill: var(--disabled-fill-color);\n",
              "    box-shadow: none;\n",
              "  }\n",
              "\n",
              "  .colab-df-spinner {\n",
              "    border: 2px solid var(--fill-color);\n",
              "    border-color: transparent;\n",
              "    border-bottom-color: var(--fill-color);\n",
              "    animation:\n",
              "      spin 1s steps(1) infinite;\n",
              "  }\n",
              "\n",
              "  @keyframes spin {\n",
              "    0% {\n",
              "      border-color: transparent;\n",
              "      border-bottom-color: var(--fill-color);\n",
              "      border-left-color: var(--fill-color);\n",
              "    }\n",
              "    20% {\n",
              "      border-color: transparent;\n",
              "      border-left-color: var(--fill-color);\n",
              "      border-top-color: var(--fill-color);\n",
              "    }\n",
              "    30% {\n",
              "      border-color: transparent;\n",
              "      border-left-color: var(--fill-color);\n",
              "      border-top-color: var(--fill-color);\n",
              "      border-right-color: var(--fill-color);\n",
              "    }\n",
              "    40% {\n",
              "      border-color: transparent;\n",
              "      border-right-color: var(--fill-color);\n",
              "      border-top-color: var(--fill-color);\n",
              "    }\n",
              "    60% {\n",
              "      border-color: transparent;\n",
              "      border-right-color: var(--fill-color);\n",
              "    }\n",
              "    80% {\n",
              "      border-color: transparent;\n",
              "      border-right-color: var(--fill-color);\n",
              "      border-bottom-color: var(--fill-color);\n",
              "    }\n",
              "    90% {\n",
              "      border-color: transparent;\n",
              "      border-bottom-color: var(--fill-color);\n",
              "    }\n",
              "  }\n",
              "</style>\n",
              "\n",
              "      <script>\n",
              "        async function quickchart(key) {\n",
              "          const quickchartButtonEl =\n",
              "            document.querySelector('#' + key + ' button');\n",
              "          quickchartButtonEl.disabled = true;  // To prevent multiple clicks.\n",
              "          quickchartButtonEl.classList.add('colab-df-spinner');\n",
              "          try {\n",
              "            const charts = await google.colab.kernel.invokeFunction(\n",
              "                'suggestCharts', [key], {});\n",
              "          } catch (error) {\n",
              "            console.error('Error during call to suggestCharts:', error);\n",
              "          }\n",
              "          quickchartButtonEl.classList.remove('colab-df-spinner');\n",
              "          quickchartButtonEl.classList.add('colab-df-quickchart-complete');\n",
              "        }\n",
              "        (() => {\n",
              "          let quickchartButtonEl =\n",
              "            document.querySelector('#df-33878cd1-e42e-496f-b215-425c9c357dfe button');\n",
              "          quickchartButtonEl.style.display =\n",
              "            google.colab.kernel.accessAllowed ? 'block' : 'none';\n",
              "        })();\n",
              "      </script>\n",
              "    </div>\n",
              "\n",
              "    </div>\n",
              "  </div>\n"
            ],
            "application/vnd.google.colaboratory.intrinsic+json": {
              "type": "dataframe",
              "variable_name": "df",
              "summary": "{\n  \"name\": \"df\",\n  \"rows\": 24,\n  \"fields\": [\n    {\n      \"column\": \"A\\u00f1o\",\n      \"properties\": {\n        \"dtype\": \"number\",\n        \"std\": 7,\n        \"min\": 2000,\n        \"max\": 2023,\n        \"num_unique_values\": 24,\n        \"samples\": [\n          2008,\n          2016,\n          2000\n        ],\n        \"semantic_type\": \"\",\n        \"description\": \"\"\n      }\n    },\n    {\n      \"column\": \"Inflaci\\u00f3n (%)\",\n      \"properties\": {\n        \"dtype\": \"number\",\n        \"std\": 42.497084085818194,\n        \"min\": -1.5,\n        \"max\": 211.4,\n        \"num_unique_values\": 24,\n        \"samples\": [\n          20.9,\n          40.9,\n          -0.7\n        ],\n        \"semantic_type\": \"\",\n        \"description\": \"\"\n      }\n    },\n    {\n      \"column\": \"PIB per c\\u00e1pita (USD 2015)\",\n      \"properties\": {\n        \"dtype\": \"number\",\n        \"std\": 1495.3409974331312,\n        \"min\": 8861.56199282278,\n        \"max\": 14040.6189124444,\n        \"num_unique_values\": 24,\n        \"samples\": [\n          13197.3570267029,\n          13265.8860639123,\n          10631.6503639029\n        ],\n        \"semantic_type\": \"\",\n        \"description\": \"\"\n      }\n    },\n    {\n      \"column\": \"Tipo de cambio (LCU/USD)\",\n      \"properties\": {\n        \"dtype\": \"number\",\n        \"std\": 65.45569042335971,\n        \"min\": 0.9995,\n        \"max\": 296.258041666667,\n        \"num_unique_values\": 23,\n        \"samples\": [\n          14.7581750873396,\n          3.8962951544705,\n          0.9995\n        ],\n        \"semantic_type\": \"\",\n        \"description\": \"\"\n      }\n    }\n  ]\n}"
            }
          },
          "metadata": {},
          "execution_count": 39
        }
      ]
    },
    {
      "cell_type": "markdown",
      "source": [
        "##**Evolución de la Inflación Anual**"
      ],
      "metadata": {
        "id": "HsKKKDzuj-sv"
      }
    },
    {
      "cell_type": "code",
      "source": [
        "plt.plot(df[\"Año\"], df[\"Inflación (%)\"], color=\"red\", marker=\"o\")\n",
        "plt.title(\"Evolución de la Inflación en Argentina (2000–2023)\")\n",
        "plt.xlabel(\"Año\")\n",
        "plt.ylabel(\"Inflación (%)\")\n",
        "plt.grid(True)\n",
        "plt.show()\n"
      ],
      "metadata": {
        "colab": {
          "base_uri": "https://localhost:8080/",
          "height": 0
        },
        "id": "9dALZ0mOaKay",
        "outputId": "8b01b588-f466-4a3f-8b42-ad33600accd9"
      },
      "execution_count": 40,
      "outputs": [
        {
          "output_type": "display_data",
          "data": {
            "text/plain": [
              "<Figure size 1200x600 with 1 Axes>"
            ],
            "image/png": "[encoded data removed]"
          },
          "metadata": {}
        }
      ]
    },
    {
      "cell_type": "markdown",
      "source": [
        "####**Insight:** La inflación fue relativamente contenida hasta 2006, pero a partir de 2014 comenzó una tendencia acelerada que culmina con un 211% en 2023."
      ],
      "metadata": {
        "id": "AB0TPohwkOLJ"
      }
    },
    {
      "cell_type": "markdown",
      "source": [
        "##**PIB per cápita en dólares constantes de 2015**"
      ],
      "metadata": {
        "id": "PeD9EQNtkshX"
      }
    },
    {
      "cell_type": "code",
      "source": [
        "plt.plot(df[\"Año\"], df[\"PIB per cápita (USD 2015)\"], color=\"blue\", marker=\"s\")\n",
        "plt.title(\"PIB per cápita real en Argentina (USD constantes de 2015)\")\n",
        "plt.xlabel(\"Año\")\n",
        "plt.ylabel(\"USD constantes (2015)\")\n",
        "plt.grid(True)\n",
        "plt.show()\n"
      ],
      "metadata": {
        "colab": {
          "base_uri": "https://localhost:8080/",
          "height": 0
        },
        "id": "x-U9YFxdaQoX",
        "outputId": "d67af077-6189-4255-9d3b-4e6642b5666b"
      },
      "execution_count": 41,
      "outputs": [
        {
          "output_type": "display_data",
          "data": {
            "text/plain": [
              "<Figure size 1200x600 with 1 Axes>"
            ],
            "image/png": "[encoded data removed]"
          },
          "metadata": {}
        }
      ]
    },
    {
      "cell_type": "markdown",
      "source": [
        "####**Insight:** Se observa un pico entre 2007–2011 y luego una caída progresiva, indicando estancamiento económico en términos reales."
      ],
      "metadata": {
        "id": "zhIIYiwdk7ZB"
      }
    },
    {
      "cell_type": "markdown",
      "source": [
        "##**Tipo de cambio oficial (ARS/USD)**"
      ],
      "metadata": {
        "id": "Ep9bOo1VlZH7"
      }
    },
    {
      "cell_type": "code",
      "source": [
        "plt.plot(df[\"Año\"], df[\"Tipo de cambio (LCU/USD)\"], color=\"green\", marker=\"^\")\n",
        "plt.title(\"Tipo de cambio oficial (ARS por USD) en Argentina\")\n",
        "plt.xlabel(\"Año\")\n",
        "plt.ylabel(\"ARS por USD\")\n",
        "plt.grid(True)\n",
        "plt.show()\n"
      ],
      "metadata": {
        "colab": {
          "base_uri": "https://localhost:8080/",
          "height": 0
        },
        "id": "WeApTKcraWfw",
        "outputId": "18b954fe-58cd-4da7-deba-22d180de3e14"
      },
      "execution_count": 42,
      "outputs": [
        {
          "output_type": "display_data",
          "data": {
            "text/plain": [
              "<Figure size 1200x600 with 1 Axes>"
            ],
            "image/png": "[encoded data removed]"
          },
          "metadata": {}
        }
      ]
    },
    {
      "cell_type": "markdown",
      "source": [
        "####**Insight:** El tipo de cambio se mantuvo relativamente estable hasta 2012, y luego se aceleró, reflejando procesos de devaluación importantes."
      ],
      "metadata": {
        "id": "h69zWGPVpS8h"
      }
    },
    {
      "cell_type": "markdown",
      "source": [
        "##**Inflación vs Tipo de cambio**"
      ],
      "metadata": {
        "id": "te3DbZ-uqCYN"
      }
    },
    {
      "cell_type": "code",
      "source": [
        "fig, ax1 = plt.subplots()\n",
        "\n",
        "ax1.plot(df[\"Año\"], df[\"Inflación (%)\"], color=\"crimson\", label=\"Inflación\", marker=\"o\")\n",
        "ax1.set_ylabel(\"Inflación (%)\", color=\"crimson\")\n",
        "ax1.tick_params(axis=\"y\", labelcolor=\"crimson\")\n",
        "\n",
        "ax2 = ax1.twinx()\n",
        "ax2.plot(df[\"Año\"], df[\"Tipo de cambio (LCU/USD)\"], color=\"darkgreen\", label=\"Tipo de cambio\", marker=\"^\")\n",
        "ax2.set_ylabel(\"ARS/USD\", color=\"darkgreen\")\n",
        "ax2.tick_params(axis=\"y\", labelcolor=\"darkgreen\")\n",
        "\n",
        "plt.title(\"Inflación vs Tipo de cambio oficial\")\n",
        "plt.grid(True)\n",
        "fig.tight_layout()\n",
        "plt.show()\n",
        "\n"
      ],
      "metadata": {
        "colab": {
          "base_uri": "https://localhost:8080/",
          "height": 0
        },
        "id": "kAyI3hqaahdp",
        "outputId": "2924e89c-e199-48c7-f8f2-4485dd4712d0"
      },
      "execution_count": 44,
      "outputs": [
        {
          "output_type": "display_data",
          "data": {
            "text/plain": [
              "<Figure size 1200x600 with 2 Axes>"
            ],
            "image/png": "[encoded data removed]"
          },
          "metadata": {}
        }
      ]
    },
    {
      "cell_type": "markdown",
      "source": [
        "####**Insight:** Existe una relación directa entre inflación y tipo de cambio: cada salto en el dólar coincide con un aumento inflacionario posterior."
      ],
      "metadata": {
        "id": "M3B9-BQLqcy-"
      }
    },
    {
      "cell_type": "markdown",
      "source": [
        "##**PIB Per Cápita vs Inflación**"
      ],
      "metadata": {
        "id": "SO3_exMvqqTG"
      }
    },
    {
      "cell_type": "code",
      "source": [
        "fig, ax1 = plt.subplots()\n",
        "\n",
        "ax1.plot(df[\"Año\"], df[\"PIB per cápita (USD 2015)\"], color=\"blue\", marker=\"s\")\n",
        "ax1.set_ylabel(\"PIB per cápita (USD 2015)\", color=\"blue\")\n",
        "ax1.tick_params(axis=\"y\", labelcolor=\"blue\")\n",
        "\n",
        "ax2 = ax1.twinx()\n",
        "ax2.plot(df[\"Año\"], df[\"Inflación (%)\"], color=\"crimson\", marker=\"o\")\n",
        "ax2.set_ylabel(\"Inflación (%)\", color=\"crimson\")\n",
        "ax2.tick_params(axis=\"y\", labelcolor=\"crimson\")\n",
        "\n",
        "plt.title(\"Inflación vs PIB per cápita real\")\n",
        "plt.grid(True)\n",
        "fig.tight_layout()\n",
        "plt.show()\n"
      ],
      "metadata": {
        "colab": {
          "base_uri": "https://localhost:8080/",
          "height": 0
        },
        "id": "RyNltMuqqtv9",
        "outputId": "b9ac8855-cced-4bb5-dbd2-9af8a43b2086"
      },
      "execution_count": 45,
      "outputs": [
        {
          "output_type": "display_data",
          "data": {
            "text/plain": [
              "<Figure size 1200x600 with 2 Axes>"
            ],
            "image/png": "[encoded data removed]"
          },
          "metadata": {}
        }
      ]
    },
    {
      "cell_type": "markdown",
      "source": [
        "####**Insight:** En general, los picos de inflación coinciden con estancamientos o caídas en el poder adquisitivo medido por PIB per cápita real."
      ],
      "metadata": {
        "id": "DtdkW_Vlq-uV"
      }
    }
  ]
}